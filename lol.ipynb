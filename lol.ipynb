{
 "cells": [
  {
   "cell_type": "code",
   "execution_count": 9,
   "metadata": {},
   "outputs": [
    {
     "name": "stdout",
     "output_type": "stream",
     "text": [
      "\n",
      "Dataset Statistics:\n",
      "            Total  1 Star  2 Star  3 Star  4 Star  5 Star\n",
      "Training    16000    3200    3200    3200    3200    3200\n",
      "Validation    800     320     320     160       0       0\n",
      "Test          800       0       0     160     320     320\n"
     ]
    }
   ],
   "source": [
    "import json\n",
    "import pandas as pd\n",
    "from pathlib import Path\n",
    "\n",
    "# Define file paths\n",
    "data_dir = Path(\".\")\n",
    "files = {\n",
    "    \"Training\": data_dir / \"training.json\",\n",
    "    \"Validation\": data_dir / \"validation.json\",\n",
    "    \"Test\": data_dir / \"test.json\"\n",
    "}\n",
    "\n",
    "# Function to analyze a dataset\n",
    "def analyze_dataset(file_path):\n",
    "    try:\n",
    "        with open(file_path, 'r', encoding='utf-8') as f:\n",
    "            data = json.load(f)\n",
    "        \n",
    "        # Count total examples\n",
    "        total_count = len(data)\n",
    "        \n",
    "        # Count examples by star rating\n",
    "        star_counts = {}\n",
    "        for i in range(1, 6):\n",
    "            star_counts[i] = sum(1 for item in data if item.get(\"stars\") == float(i))\n",
    "            \n",
    "        return total_count, star_counts\n",
    "    except FileNotFoundError:\n",
    "        print(f\"Warning: File {file_path} not found.\")\n",
    "        return 0, {i: 0 for i in range(1, 6)}\n",
    "    except json.JSONDecodeError:\n",
    "        print(f\"Warning: File {file_path} contains invalid JSON.\")\n",
    "        return 0, {i: 0 for i in range(1, 6)}\n",
    "\n",
    "# Analyze all datasets\n",
    "results = {}\n",
    "for name, file_path in files.items():\n",
    "    total, star_counts = analyze_dataset(file_path)\n",
    "    results[name] = {\"Total\": total, **{f\"{i} Star\": count for i, count in star_counts.items()}}\n",
    "\n",
    "# Create DataFrame for display\n",
    "df = pd.DataFrame(results).T\n",
    "\n",
    "# Display the table\n",
    "print(\"\\nDataset Statistics:\")\n",
    "print(df.to_string())\n",
    "\n",
    "# Optional: Create a more visually appealing table with styling\n",
    "try:\n",
    "    from IPython.display import display\n",
    "    styled_df = df.style.set_caption(\"Dataset Statistics by Star Rating\")\n",
    "    display(styled_df)\n",
    "except ImportError:\n",
    "    # If not in a notebook environment, the regular print is already done\n",
    "    pass"
   ]
  }
 ],
 "metadata": {
  "kernelspec": {
   "display_name": "Python 3",
   "language": "python",
   "name": "python3"
  },
  "language_info": {
   "codemirror_mode": {
    "name": "ipython",
    "version": 3
   },
   "file_extension": ".py",
   "mimetype": "text/x-python",
   "name": "python",
   "nbconvert_exporter": "python",
   "pygments_lexer": "ipython3",
   "version": "3.10.3"
  }
 },
 "nbformat": 4,
 "nbformat_minor": 2
}
